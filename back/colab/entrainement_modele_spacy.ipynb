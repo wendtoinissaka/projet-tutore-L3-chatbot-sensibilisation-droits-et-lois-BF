{
  "nbformat": 4,
  "nbformat_minor": 0,
  "metadata": {
    "colab": {
      "provenance": [],
      "collapsed_sections": [
        "RU0BUrhFzIJ0",
        "fuqEC1EPzhcq",
        "4m1Np8Pc1R0l",
        "fmp34bTD1rN1",
        "F_OJe2OP1x0d"
      ]
    },
    "kernelspec": {
      "name": "python3",
      "display_name": "Python 3"
    },
    "language_info": {
      "name": "python"
    }
  },
  "cells": [
    {
      "cell_type": "markdown",
      "source": [
        "## **1. Charger et Préparer le Dataset**"
      ],
      "metadata": {
        "id": "RU0BUrhFzIJ0"
      }
    },
    {
      "cell_type": "code",
      "source": [
        "import pandas as pd\n",
        "\n",
        "# Charger le fichier CSV\n",
        "df = pd.read_csv('/content/entrainement_chatbot.csv')\n",
        "# Supprimer les lignes où 'Question' est manquant\n",
        "df = df.dropna(subset=['Question'])\n",
        "# Afficher un aperçu des données\n",
        "print(df.head())\n"
      ],
      "metadata": {
        "id": "zBmQdyfWzgZ1",
        "colab": {
          "base_uri": "https://localhost:8080/"
        },
        "outputId": "743cbe65-c294-41b4-fcf5-198318ba4b7d"
      },
      "execution_count": 25,
      "outputs": [
        {
          "output_type": "stream",
          "name": "stdout",
          "text": [
            "          Categorie            Tag  \\\n",
            "0  Droit du travail  contrat_stage   \n",
            "1  Droit du travail  contrat_stage   \n",
            "2  Droit du travail  contrat_stage   \n",
            "3  Droit du travail  contrat_stage   \n",
            "4  Droit du travail  contrat_stage   \n",
            "\n",
            "                                            Question  \\\n",
            "0  Quel est l'objectif principal du contrat de st...   \n",
            "1    Qu'est-ce qu'un contrat de stage selon la loi ?   \n",
            "2  Quel type d'expérience le contrat de stage vis...   \n",
            "3       Quand doit être conclu le contrat de stage ?   \n",
            "4  Quel est le format requis pour le contrat de s...   \n",
            "\n",
            "                                             Réponse  \n",
            "0  L'objectif du contrat de stage est de favorise...  \n",
            "1  Un contrat de stage est une convention par laq...  \n",
            "2  Le contrat de stage vise à faire acquérir au s...  \n",
            "3  Le contrat de stage doit être conclu impérativ...  \n",
            "4  Le contrat de stage doit être constaté par écr...  \n"
          ]
        }
      ]
    },
    {
      "cell_type": "code",
      "execution_count": 26,
      "metadata": {
        "id": "WNYQ4GcayDo5",
        "colab": {
          "base_uri": "https://localhost:8080/"
        },
        "outputId": "67cfe320-b6bd-46a4-df95-92e53b38dd58"
      },
      "outputs": [
        {
          "output_type": "stream",
          "name": "stdout",
          "text": [
            "null :  Categorie    113\n",
            "Tag            0\n",
            "Question       0\n",
            "Réponse        0\n",
            "dtype: int64\n",
            "<class 'pandas.core.frame.DataFrame'>\n",
            "RangeIndex: 765 entries, 0 to 764\n",
            "Data columns (total 4 columns):\n",
            " #   Column     Non-Null Count  Dtype \n",
            "---  ------     --------------  ----- \n",
            " 0   Categorie  652 non-null    object\n",
            " 1   Tag        765 non-null    object\n",
            " 2   Question   765 non-null    object\n",
            " 3   Réponse    765 non-null    object\n",
            "dtypes: object(4)\n",
            "memory usage: 24.0+ KB\n"
          ]
        }
      ],
      "source": [
        "print(\"null : \",df.isna().sum())\n",
        "df.info()"
      ]
    },
    {
      "cell_type": "markdown",
      "source": [
        "## **2. Prétraitement des Données**"
      ],
      "metadata": {
        "id": "fuqEC1EPzhcq"
      }
    },
    {
      "cell_type": "code",
      "source": [
        "# Création d'une liste pour chaque question avec son tag (intention)\n",
        "data = [(row['Question'], row['Tag']) for _, row in df.iterrows()]\n",
        "# tags = df['Tag'].apply(str).unique()\n",
        "# Récupérer les tags uniques\n",
        "tags = df['Tag'].unique()\n",
        "tags = df['Tag'].apply(str).unique()\n",
        "print(data[:5])  # Vérifier les premières données\n",
        "print(tags)  # Vérifier les tags uniques\n"
      ],
      "metadata": {
        "id": "6Cvd5_930X6M",
        "colab": {
          "base_uri": "https://localhost:8080/"
        },
        "outputId": "eed46682-f506-457f-bb6a-0eb6660b35d4"
      },
      "execution_count": 27,
      "outputs": [
        {
          "output_type": "stream",
          "name": "stdout",
          "text": [
            "[(\"Quel est l'objectif principal du contrat de stage ?\", 'contrat_stage'), (\"Qu'est-ce qu'un contrat de stage selon la loi ?\", 'contrat_stage'), (\"Quel type d'expérience le contrat de stage vise-t-il à donner au stagiaire ?\", 'contrat_stage'), ('Quand doit être conclu le contrat de stage ?', 'contrat_stage'), ('Quel est le format requis pour le contrat de stage ?', 'contrat_stage')]\n",
            "['contrat_stage' 'contrat_apprentissage' 'travail_temporaire_placement'\n",
            " 'contrat_travail' 'contrat_essai_partielle' 'contrat_determine'\n",
            " 'contrat_indetermine' 'tacheronnat' 'suspension_contrat'\n",
            " 'convention_collective' 'reglement_interieur' 'duree_travail'\n",
            " 'repose_hebdomadaire' 'conges' 'voyage_transport' 'salaire'\n",
            " 'cautionnement' 'economat' 'securite_sante' 'syndicat_professionnel'\n",
            " 'delegue_personnel' 'different_travail' 'conciliation' 'travail_femme'\n",
            " 'refere' 'arbitrage' 'greve' 'inspecteur_travail' 'sanction' 'procedure'\n",
            " 'contact_avocat' 'greeting' 'introduce_self' 'goodbye' 'thank_you'\n",
            " 'chatbot_info' 'droit_foncier' 'droit_civil']\n"
          ]
        }
      ]
    },
    {
      "cell_type": "markdown",
      "source": [
        "## **3. Entraînement du Modèle SpaCy**"
      ],
      "metadata": {
        "id": "4m1Np8Pc1R0l"
      }
    },
    {
      "cell_type": "markdown",
      "source": [
        "Charger le modèle et Ajouter le Pipeline de Classification :"
      ],
      "metadata": {
        "id": "O1K30gx60rHH"
      }
    },
    {
      "cell_type": "code",
      "source": [
        "# import spacy\n",
        "\n",
        "# spacy.cli.download(\"fr_core_news_md\")"
      ],
      "metadata": {
        "id": "yZQAvLfvGL_y"
      },
      "execution_count": 28,
      "outputs": []
    },
    {
      "cell_type": "code",
      "source": [
        "import spacy\n",
        "from spacy.training import Example\n",
        "\n",
        "# Charger un modèle vierge en français\n",
        "nlp = spacy.blank(\"fr\")\n",
        "\n",
        "# Ajouter un pipeline de classification textuelle (intentions)\n",
        "textcat = nlp.add_pipe(\"textcat\")\n",
        "\n",
        "# Ajouter les étiquettes (tags) pour les intentions\n",
        "for tag in tags:\n",
        "    textcat.add_label(tag)\n"
      ],
      "metadata": {
        "id": "1vWvsrc10r_f"
      },
      "execution_count": 29,
      "outputs": []
    },
    {
      "cell_type": "code",
      "source": [
        "# Préparer les données d'entraînement pour spaCy\n",
        "TRAIN_DATA = []\n",
        "for question, tag in data:\n",
        "    # Créer les annotations pour chaque tag\n",
        "    cats = {t: 1 if t == tag else 0 for t in tags}\n",
        "\n",
        "    # Ajouter la question et ses annotations dans les données d'entraînement\n",
        "    TRAIN_DATA.append((question, {\"cats\": cats}))\n",
        "\n",
        "# Afficher quelques exemples des données préparées\n",
        "print(TRAIN_DATA[:3])\n"
      ],
      "metadata": {
        "colab": {
          "base_uri": "https://localhost:8080/"
        },
        "id": "E5dd7M3rH6uP",
        "outputId": "e6fdc287-c7fa-4405-f592-8f6a6c7626ac"
      },
      "execution_count": 30,
      "outputs": [
        {
          "output_type": "stream",
          "name": "stdout",
          "text": [
            "[(\"Quel est l'objectif principal du contrat de stage ?\", {'cats': {'contrat_stage': 1, 'contrat_apprentissage': 0, 'travail_temporaire_placement': 0, 'contrat_travail': 0, 'contrat_essai_partielle': 0, 'contrat_determine': 0, 'contrat_indetermine': 0, 'tacheronnat': 0, 'suspension_contrat': 0, 'convention_collective': 0, 'reglement_interieur': 0, 'duree_travail': 0, 'repose_hebdomadaire': 0, 'conges': 0, 'voyage_transport': 0, 'salaire': 0, 'cautionnement': 0, 'economat': 0, 'securite_sante': 0, 'syndicat_professionnel': 0, 'delegue_personnel': 0, 'different_travail': 0, 'conciliation': 0, 'travail_femme': 0, 'refere': 0, 'arbitrage': 0, 'greve': 0, 'inspecteur_travail': 0, 'sanction': 0, 'procedure': 0, 'contact_avocat': 0, 'greeting': 0, 'introduce_self': 0, 'goodbye': 0, 'thank_you': 0, 'chatbot_info': 0, 'droit_foncier': 0, 'droit_civil': 0}}), (\"Qu'est-ce qu'un contrat de stage selon la loi ?\", {'cats': {'contrat_stage': 1, 'contrat_apprentissage': 0, 'travail_temporaire_placement': 0, 'contrat_travail': 0, 'contrat_essai_partielle': 0, 'contrat_determine': 0, 'contrat_indetermine': 0, 'tacheronnat': 0, 'suspension_contrat': 0, 'convention_collective': 0, 'reglement_interieur': 0, 'duree_travail': 0, 'repose_hebdomadaire': 0, 'conges': 0, 'voyage_transport': 0, 'salaire': 0, 'cautionnement': 0, 'economat': 0, 'securite_sante': 0, 'syndicat_professionnel': 0, 'delegue_personnel': 0, 'different_travail': 0, 'conciliation': 0, 'travail_femme': 0, 'refere': 0, 'arbitrage': 0, 'greve': 0, 'inspecteur_travail': 0, 'sanction': 0, 'procedure': 0, 'contact_avocat': 0, 'greeting': 0, 'introduce_self': 0, 'goodbye': 0, 'thank_you': 0, 'chatbot_info': 0, 'droit_foncier': 0, 'droit_civil': 0}}), (\"Quel type d'expérience le contrat de stage vise-t-il à donner au stagiaire ?\", {'cats': {'contrat_stage': 1, 'contrat_apprentissage': 0, 'travail_temporaire_placement': 0, 'contrat_travail': 0, 'contrat_essai_partielle': 0, 'contrat_determine': 0, 'contrat_indetermine': 0, 'tacheronnat': 0, 'suspension_contrat': 0, 'convention_collective': 0, 'reglement_interieur': 0, 'duree_travail': 0, 'repose_hebdomadaire': 0, 'conges': 0, 'voyage_transport': 0, 'salaire': 0, 'cautionnement': 0, 'economat': 0, 'securite_sante': 0, 'syndicat_professionnel': 0, 'delegue_personnel': 0, 'different_travail': 0, 'conciliation': 0, 'travail_femme': 0, 'refere': 0, 'arbitrage': 0, 'greve': 0, 'inspecteur_travail': 0, 'sanction': 0, 'procedure': 0, 'contact_avocat': 0, 'greeting': 0, 'introduce_self': 0, 'goodbye': 0, 'thank_you': 0, 'chatbot_info': 0, 'droit_foncier': 0, 'droit_civil': 0}})]\n"
          ]
        }
      ]
    },
    {
      "cell_type": "markdown",
      "source": [
        "Entraîner le Modèle avec les Données :"
      ],
      "metadata": {
        "id": "jR9jfu520aRp"
      }
    },
    {
      "cell_type": "code",
      "source": [
        "# # Entraînement du modèle avec spaCy\n",
        "# Initialisation de l'optimiseur pour le modèle\n",
        "optimizer = nlp.begin_training()\n",
        "\n",
        "# Nombre d'itérations (epochs) pour l'entraînement\n",
        "n_iter = 10\n",
        "\n",
        "# Boucle sur chaque itération d'entraînement\n",
        "for itn in range(n_iter):\n",
        "    # Dictionnaire pour stocker les pertes (losses) pendant cette itération\n",
        "    losses = {}\n",
        "\n",
        "    # Boucle sur les données d'entraînement\n",
        "    for text, annotations in TRAIN_DATA:\n",
        "        # Vérification si 'text' est une chaîne de caractères et non 'nan'\n",
        "        if isinstance(text, str) and text != 'nan':\n",
        "            # Création d'un document spaCy à partir du texte\n",
        "            doc = nlp.make_doc(text)\n",
        "            # Création d'un exemple à partir du document et des annotations\n",
        "            example = Example.from_dict(doc, annotations)\n",
        "            # Mise à jour du modèle avec l'exemple, en appliquant un taux de dropout de 0.2\n",
        "            nlp.update([example], drop=0.2, losses=losses)\n",
        "\n",
        "    # Affichage des pertes pour l'itération actuelle\n",
        "    print(f\"Iteration {itn + 1} - Losses: {losses}\")\n"
      ],
      "metadata": {
        "id": "jKm8OqQz0gvk",
        "colab": {
          "base_uri": "https://localhost:8080/"
        },
        "outputId": "a1524270-83f9-43b2-8416-3c4fe46357ba"
      },
      "execution_count": 31,
      "outputs": [
        {
          "output_type": "stream",
          "name": "stdout",
          "text": [
            "Iteration 1 - Losses: {'textcat': 16.644941830257608}\n",
            "Iteration 2 - Losses: {'textcat': 15.128939696136344}\n",
            "Iteration 3 - Losses: {'textcat': 14.445558245138496}\n",
            "Iteration 4 - Losses: {'textcat': 13.458035957314637}\n",
            "Iteration 5 - Losses: {'textcat': 11.142921068919627}\n",
            "Iteration 6 - Losses: {'textcat': 9.001319967436693}\n",
            "Iteration 7 - Losses: {'textcat': 7.318186637885226}\n",
            "Iteration 8 - Losses: {'textcat': 5.887898654656514}\n",
            "Iteration 9 - Losses: {'textcat': 5.57188089901807}\n",
            "Iteration 10 - Losses: {'textcat': 4.417012272207533}\n"
          ]
        }
      ]
    },
    {
      "cell_type": "code",
      "source": [
        "# Sauvegarder le modèle entraîné\n",
        "nlp.to_disk(\"/content/modele_veenge_maan_chatbot_juridique\")\n",
        "\n",
        "# Télécharger le modèle sur ton local depuis Colab\n",
        "from google.colab import files\n",
        "import shutil\n",
        "\n",
        "shutil.make_archive(\"modele_veenge_maan_chatbot_juridique\", 'zip', \"/content/modele_veenge_maan_chatbot_juridique\")\n",
        "files.download(\"modele_veenge_maan_chatbot_juridique.zip\")"
      ],
      "metadata": {
        "colab": {
          "base_uri": "https://localhost:8080/",
          "height": 17
        },
        "id": "uuqtxqZhJjsw",
        "outputId": "9292ff49-8075-45f1-f35d-f867ac70db6d"
      },
      "execution_count": 32,
      "outputs": [
        {
          "output_type": "display_data",
          "data": {
            "text/plain": [
              "<IPython.core.display.Javascript object>"
            ],
            "application/javascript": [
              "\n",
              "    async function download(id, filename, size) {\n",
              "      if (!google.colab.kernel.accessAllowed) {\n",
              "        return;\n",
              "      }\n",
              "      const div = document.createElement('div');\n",
              "      const label = document.createElement('label');\n",
              "      label.textContent = `Downloading \"${filename}\": `;\n",
              "      div.appendChild(label);\n",
              "      const progress = document.createElement('progress');\n",
              "      progress.max = size;\n",
              "      div.appendChild(progress);\n",
              "      document.body.appendChild(div);\n",
              "\n",
              "      const buffers = [];\n",
              "      let downloaded = 0;\n",
              "\n",
              "      const channel = await google.colab.kernel.comms.open(id);\n",
              "      // Send a message to notify the kernel that we're ready.\n",
              "      channel.send({})\n",
              "\n",
              "      for await (const message of channel.messages) {\n",
              "        // Send a message to notify the kernel that we're ready.\n",
              "        channel.send({})\n",
              "        if (message.buffers) {\n",
              "          for (const buffer of message.buffers) {\n",
              "            buffers.push(buffer);\n",
              "            downloaded += buffer.byteLength;\n",
              "            progress.value = downloaded;\n",
              "          }\n",
              "        }\n",
              "      }\n",
              "      const blob = new Blob(buffers, {type: 'application/binary'});\n",
              "      const a = document.createElement('a');\n",
              "      a.href = window.URL.createObjectURL(blob);\n",
              "      a.download = filename;\n",
              "      div.appendChild(a);\n",
              "      a.click();\n",
              "      div.remove();\n",
              "    }\n",
              "  "
            ]
          },
          "metadata": {}
        },
        {
          "output_type": "display_data",
          "data": {
            "text/plain": [
              "<IPython.core.display.Javascript object>"
            ],
            "application/javascript": [
              "download(\"download_020fccee-ebae-49a4-ad2a-7b8c60edf503\", \"modele_veenge_maan_chatbot_juridique.zip\", 2735328)"
            ]
          },
          "metadata": {}
        }
      ]
    },
    {
      "cell_type": "markdown",
      "source": [
        "## **4. Évaluation du Modèle**"
      ],
      "metadata": {
        "id": "fmp34bTD1rN1"
      }
    },
    {
      "cell_type": "code",
      "source": [
        "test_df = pd.read_csv(\"/content/tester_modele_spacy.csv\")\n",
        "test_df = test_df[[\"Tag\", \"Question\", \"Réponse\"]]\n",
        "test_df.info()"
      ],
      "metadata": {
        "colab": {
          "base_uri": "https://localhost:8080/"
        },
        "id": "35C6CyQWXNnm",
        "outputId": "45a919cd-eff9-4dd3-bfbd-44319a79364e"
      },
      "execution_count": 33,
      "outputs": [
        {
          "output_type": "stream",
          "name": "stdout",
          "text": [
            "<class 'pandas.core.frame.DataFrame'>\n",
            "RangeIndex: 782 entries, 0 to 781\n",
            "Data columns (total 3 columns):\n",
            " #   Column    Non-Null Count  Dtype \n",
            "---  ------    --------------  ----- \n",
            " 0   Tag       782 non-null    object\n",
            " 1   Question  782 non-null    object\n",
            " 2   Réponse   782 non-null    object\n",
            "dtypes: object(3)\n",
            "memory usage: 18.5+ KB\n"
          ]
        }
      ]
    },
    {
      "cell_type": "code",
      "source": [
        "\n",
        "from sklearn.metrics import classification_report\n",
        "\n",
        "# Fonction pour évaluer le modèle SpaCy\n",
        "def evaluate_model(nlp, valid_data):\n",
        "    predictions = []\n",
        "    true_labels = []\n",
        "\n",
        "    for text, annotations in valid_data:\n",
        "        # Prédire le tag de la question\n",
        "        doc = nlp(text)\n",
        "        predicted_label = max(doc.cats, key=doc.cats.get)\n",
        "\n",
        "        # Extraire le tag réel depuis les annotations\n",
        "        true_label = max(annotations[\"cats\"], key=annotations[\"cats\"].get)\n",
        "\n",
        "        predictions.append(predicted_label)\n",
        "        true_labels.append(true_label)\n",
        "\n",
        "    # Afficher le rapport de classification\n",
        "    print(classification_report(true_labels, predictions))\n",
        "\n",
        "# Exécuter la fonction d'évaluation l'ensemble de validation\n",
        "valid_data = TRAIN_DATA[:]\n",
        "\n",
        "# Exécuter la fonction d'évaluation sur l'ensemble de test\n",
        "evaluate_model(nlp, valid_data)\n"
      ],
      "metadata": {
        "colab": {
          "base_uri": "https://localhost:8080/"
        },
        "id": "s2HVPY3kJrW3",
        "outputId": "565f0ffd-a36c-42c8-83ab-62f380d2f6cd"
      },
      "execution_count": 34,
      "outputs": [
        {
          "output_type": "stream",
          "name": "stdout",
          "text": [
            "                              precision    recall  f1-score   support\n",
            "\n",
            "                   arbitrage       0.80      1.00      0.89         8\n",
            "               cautionnement       1.00      0.87      0.93        15\n",
            "                chatbot_info       0.93      1.00      0.96        13\n",
            "                conciliation       1.00      0.93      0.97        15\n",
            "                      conges       0.85      0.65      0.73        17\n",
            "              contact_avocat       1.00      0.95      0.97        40\n",
            "       contrat_apprentissage       0.89      0.89      0.89         9\n",
            "           contrat_determine       1.00      0.67      0.80        12\n",
            "     contrat_essai_partielle       1.00      1.00      1.00         7\n",
            "         contrat_indetermine       1.00      0.34      0.51        32\n",
            "               contrat_stage       1.00      1.00      1.00         8\n",
            "             contrat_travail       1.00      0.40      0.57        15\n",
            "       convention_collective       1.00      0.87      0.93        76\n",
            "           delegue_personnel       1.00      0.93      0.97        15\n",
            "           different_travail       0.80      0.89      0.84         9\n",
            "                 droit_civil       0.55      1.00      0.71        44\n",
            "               droit_foncier       0.61      0.84      0.71        45\n",
            "               duree_travail       0.92      0.80      0.86        15\n",
            "                    economat       1.00      1.00      1.00         8\n",
            "                     goodbye       1.00      0.94      0.97        16\n",
            "                    greeting       1.00      0.94      0.97        16\n",
            "                       greve       1.00      1.00      1.00         8\n",
            "          inspecteur_travail       0.61      0.88      0.72        16\n",
            "              introduce_self       1.00      1.00      1.00        16\n",
            "                   procedure       0.95      1.00      0.97        52\n",
            "                      refere       1.00      0.88      0.93         8\n",
            "         reglement_interieur       1.00      1.00      1.00        15\n",
            "         repose_hebdomadaire       1.00      1.00      1.00        15\n",
            "                     salaire       1.00      0.80      0.89        15\n",
            "                    sanction       0.68      0.94      0.79        16\n",
            "              securite_sante       0.96      0.67      0.79        33\n",
            "          suspension_contrat       0.94      0.94      0.94        16\n",
            "      syndicat_professionnel       0.95      0.98      0.96        41\n",
            "                 tacheronnat       1.00      0.75      0.86        24\n",
            "                   thank_you       1.00      1.00      1.00        12\n",
            "               travail_femme       0.84      1.00      0.91        21\n",
            "travail_temporaire_placement       1.00      1.00      1.00        12\n",
            "            voyage_transport       1.00      1.00      1.00        10\n",
            "\n",
            "                    accuracy                           0.87       765\n",
            "                   macro avg       0.93      0.89      0.89       765\n",
            "                weighted avg       0.91      0.87      0.87       765\n",
            "\n"
          ]
        }
      ]
    },
    {
      "cell_type": "code",
      "source": [
        "#  un ensemble de test\n",
        "test_df = pd.read_csv(\"/content/tester_modele_spacy.csv\")\n",
        "test_df = test_df[[\"Tag\", \"Question\", \"Réponse\"]]\n",
        "test_df.info()"
      ],
      "metadata": {
        "colab": {
          "base_uri": "https://localhost:8080/"
        },
        "id": "N1BjJ2hsO_tO",
        "outputId": "4478e4b3-961f-4370-9124-89b4fd487130"
      },
      "execution_count": 35,
      "outputs": [
        {
          "output_type": "stream",
          "name": "stdout",
          "text": [
            "<class 'pandas.core.frame.DataFrame'>\n",
            "RangeIndex: 782 entries, 0 to 781\n",
            "Data columns (total 3 columns):\n",
            " #   Column    Non-Null Count  Dtype \n",
            "---  ------    --------------  ----- \n",
            " 0   Tag       782 non-null    object\n",
            " 1   Question  782 non-null    object\n",
            " 2   Réponse   782 non-null    object\n",
            "dtypes: object(3)\n",
            "memory usage: 18.5+ KB\n"
          ]
        }
      ]
    },
    {
      "cell_type": "code",
      "source": [
        "#  un ensemble de test\n",
        "\n",
        "# Préparer les données de test\n",
        "y_true = []\n",
        "y_pred = []\n",
        "\n",
        "for _, row in test_df.iterrows():\n",
        "    text = row['Question']\n",
        "    true_tag = row['Tag']\n",
        "    y_true.append(true_tag)\n",
        "\n",
        "    # Prédiction du modèle\n",
        "    doc = nlp(text)\n",
        "    predicted_tag = doc.cats\n",
        "    # Choisir le tag avec la probabilité maximale\n",
        "    predicted_tag = max(predicted_tag, key=predicted_tag.get)\n",
        "    y_pred.append(predicted_tag)\n",
        "\n",
        "# Calcul des métriques\n",
        "from sklearn.metrics import precision_score, recall_score, f1_score, accuracy_score\n",
        "\n",
        "precision = precision_score(y_true, y_pred, average='weighted')\n",
        "recall = recall_score(y_true, y_pred, average='weighted')\n",
        "f1 = f1_score(y_true, y_pred, average='weighted')\n",
        "accuracy = accuracy_score(y_true, y_pred)\n",
        "unique_labels = set(y_true)\n",
        "predicted_labels = set(y_pred)\n",
        "\n",
        "# Étiquettes qui n'ont pas été prédites\n",
        "missing_labels = unique_labels - predicted_labels\n",
        "print(f\"Étiquettes non prédites : {missing_labels}\")\n",
        "\n",
        "print(f\"Précision: {precision:.2f}\")\n",
        "print(f\"Rappel: {recall:.2f}\")\n",
        "print(f\"F1-score: {f1:.2f}\")\n",
        "print(f\"Exactitude: {accuracy:.2f}\")\n"
      ],
      "metadata": {
        "colab": {
          "base_uri": "https://localhost:8080/"
        },
        "id": "0qOApDcgPF3F",
        "outputId": "c3d153f9-6f84-4390-b869-9a499f70800f"
      },
      "execution_count": 36,
      "outputs": [
        {
          "output_type": "stream",
          "name": "stdout",
          "text": [
            "Étiquettes non prédites : set()\n",
            "Précision: 0.90\n",
            "Rappel: 0.85\n",
            "F1-score: 0.84\n",
            "Exactitude: 0.85\n"
          ]
        }
      ]
    },
    {
      "cell_type": "markdown",
      "source": [
        "## **5. Sauvegarde et Chargement du Modèle**"
      ],
      "metadata": {
        "id": "F_OJe2OP1x0d"
      }
    },
    {
      "cell_type": "code",
      "source": [
        "# Sauvegarder le modèle entraîné\n",
        "nlp.to_disk(\"/content/modele_veenge_maan_chatbot_juridique\")\n",
        "\n",
        "# Télécharger le modèle sur ton local depuis Colab\n",
        "from google.colab import files\n",
        "import shutil\n",
        "\n",
        "shutil.make_archive(\"modele_veenge_maan_chatbot_juridique\", 'zip', \"/content/modele_veenge_maan_chatbot_juridique\")\n",
        "files.download(\"modele_veenge_maan_chatbot_juridique.zip\")"
      ],
      "metadata": {
        "id": "6lFKO1CeCsF1",
        "colab": {
          "base_uri": "https://localhost:8080/",
          "height": 17
        },
        "outputId": "ea92556e-d51d-4299-dd88-d67eb30bf587"
      },
      "execution_count": 24,
      "outputs": [
        {
          "output_type": "display_data",
          "data": {
            "text/plain": [
              "<IPython.core.display.Javascript object>"
            ],
            "application/javascript": [
              "\n",
              "    async function download(id, filename, size) {\n",
              "      if (!google.colab.kernel.accessAllowed) {\n",
              "        return;\n",
              "      }\n",
              "      const div = document.createElement('div');\n",
              "      const label = document.createElement('label');\n",
              "      label.textContent = `Downloading \"${filename}\": `;\n",
              "      div.appendChild(label);\n",
              "      const progress = document.createElement('progress');\n",
              "      progress.max = size;\n",
              "      div.appendChild(progress);\n",
              "      document.body.appendChild(div);\n",
              "\n",
              "      const buffers = [];\n",
              "      let downloaded = 0;\n",
              "\n",
              "      const channel = await google.colab.kernel.comms.open(id);\n",
              "      // Send a message to notify the kernel that we're ready.\n",
              "      channel.send({})\n",
              "\n",
              "      for await (const message of channel.messages) {\n",
              "        // Send a message to notify the kernel that we're ready.\n",
              "        channel.send({})\n",
              "        if (message.buffers) {\n",
              "          for (const buffer of message.buffers) {\n",
              "            buffers.push(buffer);\n",
              "            downloaded += buffer.byteLength;\n",
              "            progress.value = downloaded;\n",
              "          }\n",
              "        }\n",
              "      }\n",
              "      const blob = new Blob(buffers, {type: 'application/binary'});\n",
              "      const a = document.createElement('a');\n",
              "      a.href = window.URL.createObjectURL(blob);\n",
              "      a.download = filename;\n",
              "      div.appendChild(a);\n",
              "      a.click();\n",
              "      div.remove();\n",
              "    }\n",
              "  "
            ]
          },
          "metadata": {}
        },
        {
          "output_type": "display_data",
          "data": {
            "text/plain": [
              "<IPython.core.display.Javascript object>"
            ],
            "application/javascript": [
              "download(\"download_edfdcc49-ce2b-4989-a35b-8ac778019011\", \"modele_veenge_maan_chatbot_juridique.zip\", 2753382)"
            ]
          },
          "metadata": {}
        }
      ]
    },
    {
      "cell_type": "code",
      "source": [],
      "metadata": {
        "id": "EClE5AkMOzny"
      },
      "execution_count": null,
      "outputs": []
    }
  ]
}